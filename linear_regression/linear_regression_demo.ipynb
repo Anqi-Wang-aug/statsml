{
 "cells": [
  {
   "cell_type": "markdown",
   "metadata": {},
   "source": [
    "# Linear Regression Demonstration"
   ]
  },
  {
   "cell_type": "code",
   "execution_count": 51,
   "metadata": {},
   "outputs": [],
   "source": [
    "import numpy as np\n",
    "import matplotlib.pyplot as plt\n",
    "from sympy import *\n",
    "from sklearn.linear_model import LinearRegression\n",
    "from sklearn.model_selection import train_test_split"
   ]
  },
  {
   "cell_type": "markdown",
   "metadata": {},
   "source": [
    "## Prepare initial data"
   ]
  },
  {
   "cell_type": "code",
   "execution_count": 52,
   "metadata": {},
   "outputs": [],
   "source": [
    "n = 100\n",
    "x = np.arange(n)\n",
    "delta = np.random.uniform(-10, 10, n)\n",
    "y = 0.4*x+3+delta"
   ]
  },
  {
   "cell_type": "code",
   "execution_count": 53,
   "metadata": {},
   "outputs": [
    {
     "data": {
      "text/plain": [
       "[<matplotlib.lines.Line2D at 0x7f71a4d5c230>]"
      ]
     },
     "execution_count": 53,
     "metadata": {},
     "output_type": "execute_result"
    },
    {
     "data": {
      "image/png": "[encoded data removed]",
      "text/plain": [
       "<Figure size 640x480 with 1 Axes>"
      ]
     },
     "metadata": {},
     "output_type": "display_data"
    }
   ],
   "source": [
    "plt.plot(x,y, '.')"
   ]
  },
  {
   "cell_type": "markdown",
   "metadata": {},
   "source": [
    "## Train Test Split"
   ]
  },
  {
   "cell_type": "code",
   "execution_count": 54,
   "metadata": {},
   "outputs": [],
   "source": [
    "xtr, xte, ytr, yte = train_test_split(x, y, test_size=0.2)"
   ]
  },
  {
   "cell_type": "markdown",
   "metadata": {},
   "source": [
    "## Minimized squared Loss Error\n",
    "Formula for least squared error:\n",
    "$$ L = \\sum_{i=1}^n (y_i-a-bx_i)^2$$\n",
    "Where a and b are parameters that we're going to estimate by taking their derivtive\n",
    "\n",
    "$$\\frac{dL}{da} = -2\\sum_{i=1}^ny_i-a-bx_i$$\n",
    "$$\\frac{dL}{db} =-2\\sum_{i=1}^n(y_i-a-bx_i)x_i$$\n",
    "And we need to equate these two derivatives to 0. \n",
    "Then $$a = \\frac{1}{n}\\sum_{i=1}^ny_i-bx_i$$\n",
    "$$b = \\frac{1}{\\sum_{i=1}^nx_i^2}\\sum_{i=1}^n (y_i-a)x_i$$\n",
    "We could transform the above equations as: \n",
    "$$na+b\\sum_{i=1}^nx_i = \\sum_{i=1}^ny_i$$\n",
    "$$a\\sum_{i=1}^nx_i+b\\sum_{i=1}^nx_i^2=\\sum_{i=1}^n x_iy_i$$"
   ]
  },
  {
   "cell_type": "code",
   "execution_count": 55,
   "metadata": {},
   "outputs": [
    {
     "name": "stdout",
     "output_type": "stream",
     "text": [
      "[0.74675008 0.44919262]\n"
     ]
    }
   ],
   "source": [
    "sum_x = sum(xtr)\n",
    "sum_y = sum(ytr)\n",
    "sum_xy = np.dot(xtr,ytr)\n",
    "sum_xx = np.dot(xtr,xtr)\n",
    "A = np.array([[n, sum_x], [sum_x, sum_xx]])\n",
    "b = np.array([sum_y, sum_xy])\n",
    "res = np.linalg.solve(A, b)\n",
    "print(res)"
   ]
  },
  {
   "cell_type": "code",
   "execution_count": 56,
   "metadata": {},
   "outputs": [],
   "source": [
    "y_pred = res[1]*xte+res[0]"
   ]
  },
  {
   "cell_type": "markdown",
   "metadata": {},
   "source": [
    "## Calculate the root mean squared error (RMSE)\n",
    "The formula of root mean squared error: \n",
    "$$RMSE = \\sqrt{\\frac{\\sum(y-y_{pred})}{n-p}}$$\n",
    "where: \n",
    "- $y$: the observed values\n",
    "- $y_{pred}$: the predicted values\n",
    "- $n$: number of observations\n",
    "- $p$: number of estimated parameters"
   ]
  },
  {
   "cell_type": "code",
   "execution_count": 57,
   "metadata": {},
   "outputs": [],
   "source": [
    "def rmse(y_pred, y_test):\n",
    "    return sqrt(sum((y_pred-y_test)**2)/(n-2))"
   ]
  },
  {
   "cell_type": "code",
   "execution_count": 58,
   "metadata": {},
   "outputs": [
    {
     "name": "stdout",
     "output_type": "stream",
     "text": [
      "2.83613438636092\n"
     ]
    }
   ],
   "source": [
    "print(rmse(y_pred, yte))"
   ]
  },
  {
   "cell_type": "markdown",
   "metadata": {},
   "source": [
    "## Validate our answer with linear regression package from sklearn"
   ]
  },
  {
   "cell_type": "code",
   "execution_count": 59,
   "metadata": {},
   "outputs": [
    {
     "name": "stdout",
     "output_type": "stream",
     "text": [
      "1.4811914696809936 [0.43836209]\n"
     ]
    }
   ],
   "source": [
    "model = LinearRegression().fit(xtr.reshape(-1, 1), ytr)\n",
    "print(model.intercept_, model.coef_)"
   ]
  },
  {
   "cell_type": "markdown",
   "metadata": {},
   "source": [
    "Consdiering the range of $y$, we may tolerate such small inaccuracy\n",
    "\n",
    "We still would like to see the rmse score based on this"
   ]
  },
  {
   "cell_type": "code",
   "execution_count": 60,
   "metadata": {},
   "outputs": [],
   "source": [
    "ym_pred = model.predict(xte.reshape(-1, 1))"
   ]
  },
  {
   "cell_type": "code",
   "execution_count": 61,
   "metadata": {},
   "outputs": [
    {
     "name": "stdout",
     "output_type": "stream",
     "text": [
      "2.81654049563408\n"
     ]
    }
   ],
   "source": [
    "print(rmse(ym_pred, yte))"
   ]
  },
  {
   "cell_type": "markdown",
   "metadata": {},
   "source": [
    "Now we could say that our algorithm is almost as good as the linear regression model in sklearn package"
   ]
  }
 ],
 "metadata": {
  "kernelspec": {
   "display_name": "Python 3",
   "language": "python",
   "name": "python3"
  },
  "language_info": {
   "codemirror_mode": {
    "name": "ipython",
    "version": 3
   },
   "file_extension": ".py",
   "mimetype": "text/x-python",
   "name": "python",
   "nbconvert_exporter": "python",
   "pygments_lexer": "ipython3",
   "version": "3.12.4"
  }
 },
 "nbformat": 4,
 "nbformat_minor": 2
}
